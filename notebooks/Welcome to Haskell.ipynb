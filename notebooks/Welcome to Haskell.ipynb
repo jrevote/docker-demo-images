{
 "cells": [
  {
   "cell_type": "markdown",
   "metadata": {},
   "source": [
    "# Try Haskell!\n",
    "\n",
    "[Haskell](https://www.haskell.org/) is a modern purely functional programming language, backed by a large open-source community, a large package database, suitable for tackling difficult problems on a commercial scale. \n",
    "\n",
    "Welcome to IHaskell, Haskell running on a Jupyter temporary notebook! This notebook provides you a way to quickly experiment with Haskell and the Jupyter notebook interface. (This server will be deleted after ten minutes of inactivity.)"
   ]
  },
  {
   "cell_type": "markdown",
   "metadata": {},
   "source": [
    "## Run some Haskell code!\n",
    "\n",
    "The Jupyter interface is divided into cells. Some cells, like this one, have markdown and other media content. Other cells, like the one below, contain *code*.\n",
    "\n",
    "1. Select the cell below this one by click in on it.\n",
    "2. Run the cell by pressing `SHIFT-ENTER` (or the play button in the toolbar at the top)."
   ]
  },
  {
   "cell_type": "code",
   "execution_count": 2,
   "metadata": {
    "collapsed": false
   },
   "outputs": [
    {
     "data": {
      "text/plain": [
       "[2,4,6,8,10,12,14,16,18,20]"
      ]
     },
     "metadata": {},
     "output_type": "display_data"
    }
   ],
   "source": [
    "-- List of all natural numbers.\n",
    "naturals :: [Integer]\n",
    "naturals = [1..]\n",
    "\n",
    "-- List of all even naturals.\n",
    "evens :: [Integer]\n",
    "evens = filter isEven naturals\n",
    "  where isEven x = x `mod` 2 == 0\n",
    "  \n",
    "-- Print the first ten even integers.\n",
    "-- If we wrote `print evens`, our code would run forever.\n",
    "print (take 10 evens)"
   ]
  },
  {
   "cell_type": "markdown",
   "metadata": {},
   "source": [
    "## More Info\n",
    "\n",
    "You can find more information on using the Jupyter notebook interface [here](http://ipython.org/ipython-doc/3/notebook/notebook.html#notebook-user-interface). If you'd like to install IHaskell locally, follow [these instructions](http://www.github.com/gibiansky/IHaskell), and [file issues](http://www.github.com/gibiansky/IHaskell/issues) if you run into trouble.\n",
    "\n",
    "IHaskell can be customized for rich displays and interactive media for any library; some demos are available in the [full IHaskell demo notebook](http://nbviewer.ipython.org/github/gibiansky/IHaskell/blob/master/notebooks/IHaskell.ipynb)."
   ]
  },
  {
   "cell_type": "markdown",
   "metadata": {},
   "source": [
    "## Another Code Snippet\n",
    "\n",
    "If you want a few more code snippets to play with, here's the code from [haskell.org](https://www.haskell.org/) for (very slowly) finding primes. (This isn't a prime seive, and is very slow, so don't use it anywhere important! It's suitable more or less only for getting a feel for Haskell syntax.)"
   ]
  },
  {
   "cell_type": "code",
   "execution_count": 3,
   "metadata": {
    "collapsed": false
   },
   "outputs": [
    {
     "data": {
      "text/plain": [
       "The 100th prime is 541!"
      ]
     },
     "metadata": {},
     "output_type": "display_data"
    }
   ],
   "source": [
    "primes :: [Int]\n",
    "primes = filterPrime [2..] \n",
    "  where filterPrime (p:xs) = \n",
    "          p : filterPrime [x | x <- xs, x `mod` p /= 0]\n",
    "          \n",
    "putStrLn $ concat [\"The 100th prime is \", show (primes !! 99), \"!\"]"
   ]
  },
  {
   "cell_type": "markdown",
   "metadata": {},
   "source": [
    "## Parsing\n",
    "\n",
    "Haskell's monadic parser combinator libraries make writing parsers incredibly easy, making prototyping custom textual formats and small parsers very quick. For example, where in another language you may turn to a regular expression as a quick-and-dirty solution, `parsec` makes writing parsers so easy that it is your go-to tool instead.\n",
    "\n",
    "Below is a small code snippet for parsing US phone numbers."
   ]
  },
  {
   "cell_type": "code",
   "execution_count": 9,
   "metadata": {
    "collapsed": false
   },
   "outputs": [],
   "source": [
    "import Text.Parsec\n",
    "import Text.Parsec.String\n",
    "\n",
    "-- Parse a single digit\n",
    "digit :: Parser Char\n",
    "digit = oneOf ['0'..'9']\n",
    "\n",
    "-- Parse a multi-digit number.\n",
    "number :: Parser Integer\n",
    "number = do\n",
    "  digits <- many1 digit -- At least one digit\n",
    "  return (read digits)  -- Convert [Char] to Integer\n",
    "  \n",
    "-- Parse a country code, starting with a +.\n",
    "countryCode :: Parser Integer\n",
    "countryCode = do\n",
    "  char '+'\n",
    "  number\n",
    "  \n",
    "-- Parse an area code, optionally with parentheses.\n",
    "areaCode :: Parser Integer\n",
    "areaCode = choice [withParens, withoutParens]\n",
    "  where\n",
    "    withParens = between (char '(') (char ')') withoutParens\n",
    "    withoutParens = number\n",
    "  \n",
    "-- Simple data type representing a phone number.\n",
    "-- Real phone numbers are much more complex!\n",
    "data PhoneNumber = PhoneNumber {\n",
    "    phoneCountryCode :: Maybe Integer,\n",
    "    phoneNumbers :: [Integer]\n",
    "  } deriving (Eq, Show)\n",
    "  \n",
    "phoneNumber :: Parser PhoneNumber\n",
    "phoneNumber = do\n",
    "  -- Try to parse a country code. If it doesn't work, it's Nothing.\n",
    "  c <- optionMaybe countryCode\n",
    "  optional separator\n",
    "  a1 <- areaCode\n",
    "  separator -- Separator required after area code\n",
    "  a2 <- number\n",
    "  separator -- Separator required before last group of digits\n",
    "  a3 <- number\n",
    "  return (PhoneNumber c [a1, a2, a3])\n",
    "  \n",
    "  where\n",
    "    separator = oneOf \" -\"\n",
    "  "
   ]
  },
  {
   "cell_type": "markdown",
   "metadata": {},
   "source": [
    "We can use this to parse phone numbers from strings:"
   ]
  },
  {
   "cell_type": "code",
   "execution_count": 11,
   "metadata": {
    "collapsed": false
   },
   "outputs": [
    {
     "data": {
      "text/plain": [
       "Just (PhoneNumber {phoneCountryCode = Just 1, phoneNumbers = [327,525,3029]})"
      ]
     },
     "metadata": {},
     "output_type": "display_data"
    }
   ],
   "source": [
    "parsePhoneNumber :: String -> Maybe PhoneNumber\n",
    "parsePhoneNumber str = case parse phoneNumber \"<interactive>\" str of\n",
    "  Left _ -> Nothing\n",
    "  Right x -> Just x\n",
    "  \n",
    "print (parsePhoneNumber \"+1 (327)-525 3029\")"
   ]
  },
  {
   "cell_type": "markdown",
   "metadata": {},
   "source": [
    "This parser is of course much longer than an equivalent regular expression, but much easier to get sane error messages out of, and much more maintainable as a result:"
   ]
  },
  {
   "cell_type": "code",
   "execution_count": 14,
   "metadata": {
    "collapsed": false
   },
   "outputs": [
    {
     "data": {
      "text/plain": [
       "Left \"example\" (line 1, column 9):\n",
       "unexpected \"x\""
      ]
     },
     "metadata": {},
     "output_type": "display_data"
    }
   ],
   "source": [
    "parse phoneNumber \"example\" \"+1 (327)x525x3029\""
   ]
  }
 ],
 "metadata": {
  "kernelspec": {
   "display_name": "Haskell",
   "language": "haskell",
   "name": "haskell"
  }
 },
 "nbformat": 4,
 "nbformat_minor": 0
}
